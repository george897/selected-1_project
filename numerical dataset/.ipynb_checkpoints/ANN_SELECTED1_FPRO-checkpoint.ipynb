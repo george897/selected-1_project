{
 "cells": [
  {
   "cell_type": "code",
   "execution_count": 1,
   "id": "84cc675c",
   "metadata": {},
   "outputs": [
    {
     "ename": "ModuleNotFoundError",
     "evalue": "No module named 'tensorflow'",
     "output_type": "error",
     "traceback": [
      "\u001b[1;31m---------------------------------------------------------------------------\u001b[0m",
      "\u001b[1;31mModuleNotFoundError\u001b[0m                       Traceback (most recent call last)",
      "\u001b[1;32m<ipython-input-1-6d4b9f509a3a>\u001b[0m in \u001b[0;36m<module>\u001b[1;34m\u001b[0m\n\u001b[0;32m     12\u001b[0m \u001b[1;32mfrom\u001b[0m \u001b[0msklearn\u001b[0m\u001b[1;33m.\u001b[0m\u001b[0mmodel_selection\u001b[0m \u001b[1;32mimport\u001b[0m \u001b[0mGridSearchCV\u001b[0m\u001b[1;33m\u001b[0m\u001b[1;33m\u001b[0m\u001b[0m\n\u001b[0;32m     13\u001b[0m \u001b[1;33m\u001b[0m\u001b[0m\n\u001b[1;32m---> 14\u001b[1;33m \u001b[1;32mimport\u001b[0m \u001b[0mtensorflow\u001b[0m \u001b[1;32mas\u001b[0m \u001b[0mtf\u001b[0m\u001b[1;33m\u001b[0m\u001b[1;33m\u001b[0m\u001b[0m\n\u001b[0m\u001b[0;32m     15\u001b[0m \u001b[1;32mfrom\u001b[0m \u001b[0mtensorflow\u001b[0m \u001b[1;32mimport\u001b[0m \u001b[0mkeras\u001b[0m\u001b[1;33m\u001b[0m\u001b[1;33m\u001b[0m\u001b[0m\n\u001b[0;32m     16\u001b[0m \u001b[1;32mfrom\u001b[0m \u001b[0mtensorflow\u001b[0m\u001b[1;33m.\u001b[0m\u001b[0mkeras\u001b[0m\u001b[1;33m.\u001b[0m\u001b[0mmodels\u001b[0m \u001b[1;32mimport\u001b[0m \u001b[0mSequential\u001b[0m\u001b[1;33m\u001b[0m\u001b[1;33m\u001b[0m\u001b[0m\n",
      "\u001b[1;31mModuleNotFoundError\u001b[0m: No module named 'tensorflow'"
     ]
    }
   ],
   "source": [
    "#porting Important Libraries\n",
    "import pandas as pd\n",
    "import numpy as np\n",
    "import matplotlib.pyplot as plt\n",
    "%matplotlib inline\n",
    "\n",
    "import seaborn as sns\n",
    "from sklearn.model_selection import train_test_split\n",
    "from sklearn.preprocessing import MinMaxScaler\n",
    "from sklearn.preprocessing import StandardScaler\n",
    "from sklearn.metrics import confusion_matrix,classification_report,roc_curve,accuracy_score,auc,hinge_loss,roc_auc_score\n",
    "from sklearn.model_selection import GridSearchCV\n",
    "\n",
    "import tensorflow as tf\n",
    "from tensorflow import keras\n",
    "from tensorflow.keras.models import Sequential\n",
    "from tensorflow.keras.layers import Dense, Dropout, Activation, Conv2D,MaxPooling2D, Flatten\n",
    "\n",
    "from sklearn import svm \n",
    "from sklearn.svm import SVC\n"
   ]
  },
  {
   "cell_type": "code",
   "execution_count": 2,
   "id": "a9fa8771",
   "metadata": {},
   "outputs": [],
   "source": [
    "df= pd.read_csv('Diabetes.csv')"
   ]
  },
  {
   "cell_type": "code",
   "execution_count": 3,
   "id": "bbaefdbb",
   "metadata": {},
   "outputs": [],
   "source": [
    "title_mapping = {'YES':1,'NO':0}\n",
    "df[' Class variable']=df[' Class variable'].map(title_mapping)"
   ]
  },
  {
   "cell_type": "code",
   "execution_count": 4,
   "id": "9186de62",
   "metadata": {},
   "outputs": [],
   "source": [
    "col=['n_pregnant','glucose_conc','bp','skin_len','insulin','bmi','pedigree_fun','age','Output']\n",
    "df.columns=col"
   ]
  },
  {
   "cell_type": "code",
   "execution_count": 5,
   "id": "74497544",
   "metadata": {},
   "outputs": [],
   "source": [
    "diabetes_true_count = len(df.loc[df['Output'] == True])\n",
    "diabetes_false_count = len(df.loc[df['Output'] == False])"
   ]
  },
  {
   "cell_type": "code",
   "execution_count": 6,
   "id": "71561081",
   "metadata": {},
   "outputs": [],
   "source": [
    "col=['glucose_conc','bp','insulin','bmi','skin_len']\n",
    "for i in col:\n",
    "    df[i].replace(0, np.nan, inplace= True)"
   ]
  },
  {
   "cell_type": "code",
   "execution_count": 7,
   "id": "4d3bd20e",
   "metadata": {},
   "outputs": [],
   "source": [
    "def median_target(var):\n",
    "    temp = df[df[var].notnull()]\n",
    "    temp = temp[[var, 'Output']].groupby(['Output'])[[var]].median().reset_index()\n",
    "    return temp"
   ]
  },
  {
   "cell_type": "code",
   "execution_count": 8,
   "id": "ea363d2d",
   "metadata": {},
   "outputs": [
    {
     "data": {
      "text/html": [
       "<div>\n",
       "<style scoped>\n",
       "    .dataframe tbody tr th:only-of-type {\n",
       "        vertical-align: middle;\n",
       "    }\n",
       "\n",
       "    .dataframe tbody tr th {\n",
       "        vertical-align: top;\n",
       "    }\n",
       "\n",
       "    .dataframe thead th {\n",
       "        text-align: right;\n",
       "    }\n",
       "</style>\n",
       "<table border=\"1\" class=\"dataframe\">\n",
       "  <thead>\n",
       "    <tr style=\"text-align: right;\">\n",
       "      <th></th>\n",
       "      <th>Output</th>\n",
       "      <th>bmi</th>\n",
       "    </tr>\n",
       "  </thead>\n",
       "  <tbody>\n",
       "    <tr>\n",
       "      <th>0</th>\n",
       "      <td>0</td>\n",
       "      <td>30.1</td>\n",
       "    </tr>\n",
       "    <tr>\n",
       "      <th>1</th>\n",
       "      <td>1</td>\n",
       "      <td>34.3</td>\n",
       "    </tr>\n",
       "  </tbody>\n",
       "</table>\n",
       "</div>"
      ],
      "text/plain": [
       "   Output   bmi\n",
       "0       0  30.1\n",
       "1       1  34.3"
      ]
     },
     "execution_count": 8,
     "metadata": {},
     "output_type": "execute_result"
    }
   ],
   "source": [
    "median_target('insulin')\n",
    "median_target('glucose_conc')\n",
    "median_target('skin_len')\n",
    "median_target('bp')\n",
    "median_target('bmi')"
   ]
  },
  {
   "cell_type": "code",
   "execution_count": 9,
   "id": "d88efbff",
   "metadata": {},
   "outputs": [],
   "source": [
    "#Filling the NaN value with Median according to Output\n",
    "df.loc[(df['Output'] == 0 ) & (df['insulin'].isnull()), 'insulin'] = 102.5\n",
    "df.loc[(df['Output'] == 1 ) & (df['insulin'].isnull()), 'insulin'] = 169.5\n",
    "df.loc[(df['Output'] == 0 ) & (df['glucose_conc'].isnull()), 'glucose_conc'] = 107\n",
    "df.loc[(df['Output'] == 1 ) & (df['glucose_conc'].isnull()), 'glucose_conc'] = 140\n",
    "df.loc[(df['Output'] == 0 ) & (df['skin_len'].isnull()), 'skin_len'] = 27\n",
    "df.loc[(df['Output'] == 1 ) & (df['skin_len'].isnull()), 'skin_len'] = 32\n",
    "df.loc[(df['Output'] == 0 ) & (df['bp'].isnull()), 'bp'] = 70\n",
    "df.loc[(df['Output'] == 1 ) & (df['bp'].isnull()), 'bp'] = 74.5\n",
    "df.loc[(df['Output'] == 0 ) & (df['bmi'].isnull()), 'bmi'] = 30.1\n",
    "df.loc[(df['Output'] == 1 ) & (df['bmi'].isnull()), 'bmi'] = 34.3"
   ]
  },
  {
   "cell_type": "code",
   "execution_count": 10,
   "id": "6cb14532",
   "metadata": {},
   "outputs": [],
   "source": [
    "median_target('n_pregnant')\n",
    "df.loc[(df['Output'] == 0 ) & (df['n_pregnant']>13), 'n_pregnant'] = 2\n",
    "df.loc[(df['Output'] == 1 ) & (df['n_pregnant']>13), 'n_pregnant'] = 4\n",
    "median_target('bp')\n",
    "df.loc[(df['Output'] == 0 ) & (df['bp']<40), 'bp'] = 70\n",
    "df.loc[(df['Output'] == 1 ) & (df['bp']<40), 'bp'] = 74.5\n",
    "df.loc[(df['Output'] == 0 ) & (df['bp']>103), 'bp'] = 70\n",
    "df.loc[(df['Output'] == 1 ) & (df['bp']>103), 'bp'] = 74.5"
   ]
  },
  {
   "cell_type": "code",
   "execution_count": 11,
   "id": "79a5b5a9",
   "metadata": {},
   "outputs": [],
   "source": [
    "median_target('skin_len')\n",
    "df.loc[(df['Output'] == 0 ) & (df['skin_len']>38), 'skin_len'] = 27\n",
    "df.loc[(df['Output'] == 1 ) & (df['skin_len']>38), 'skin_len'] = 32\n",
    "df.loc[(df['Output'] == 0 ) & (df['skin_len']<20), 'skin_len'] = 27\n",
    "df.loc[(df['Output'] == 1 ) & (df['skin_len']<20), 'skin_len'] = 32\n",
    "median_target('bmi')\n",
    "df.loc[(df['Output'] == 0 ) & (df['bmi']>48), 'bmi'] = 30.1\n",
    "df.loc[(df['Output'] == 1 ) & (df['bmi']>48), 'bmi'] = 34.3\n"
   ]
  },
  {
   "cell_type": "code",
   "execution_count": 12,
   "id": "1a0b0c40",
   "metadata": {},
   "outputs": [],
   "source": [
    "median_target('pedigree_fun')\n",
    "df.loc[(df['Output'] == 0 ) & (df['pedigree_fun']>1), 'pedigree_fun'] = 0.336\n",
    "df.loc[(df['Output'] == 1 ) & (df['pedigree_fun']>1), 'pedigree_fun'] = 0.449"
   ]
  },
  {
   "cell_type": "code",
   "execution_count": 13,
   "id": "4bdac8d2",
   "metadata": {},
   "outputs": [],
   "source": [
    "median_target('age')\n",
    "df.loc[(df['Output'] == 0 ) & (df['age']>61), 'age'] = 27\n",
    "df.loc[(df['Output'] == 1 ) & (df['age']>61), 'age'] = 36"
   ]
  },
  {
   "cell_type": "code",
   "execution_count": 14,
   "id": "a1c9171b",
   "metadata": {},
   "outputs": [
    {
     "data": {
      "text/plain": [
       "n_pregnant        int64\n",
       "glucose_conc    float64\n",
       "bp              float64\n",
       "skin_len        float64\n",
       "insulin         float64\n",
       "bmi             float64\n",
       "pedigree_fun    float64\n",
       "age               int64\n",
       "Output            int64\n",
       "dtype: object"
      ]
     },
     "execution_count": 14,
     "metadata": {},
     "output_type": "execute_result"
    }
   ],
   "source": [
    "df.dtypes"
   ]
  },
  {
   "cell_type": "code",
   "execution_count": 15,
   "id": "a4490976",
   "metadata": {},
   "outputs": [
    {
     "data": {
      "text/html": [
       "<div>\n",
       "<style scoped>\n",
       "    .dataframe tbody tr th:only-of-type {\n",
       "        vertical-align: middle;\n",
       "    }\n",
       "\n",
       "    .dataframe tbody tr th {\n",
       "        vertical-align: top;\n",
       "    }\n",
       "\n",
       "    .dataframe thead th {\n",
       "        text-align: right;\n",
       "    }\n",
       "</style>\n",
       "<table border=\"1\" class=\"dataframe\">\n",
       "  <thead>\n",
       "    <tr style=\"text-align: right;\">\n",
       "      <th></th>\n",
       "      <th>n_pregnant</th>\n",
       "      <th>glucose_conc</th>\n",
       "      <th>bp</th>\n",
       "      <th>skin_len</th>\n",
       "      <th>insulin</th>\n",
       "      <th>bmi</th>\n",
       "      <th>pedigree_fun</th>\n",
       "      <th>age</th>\n",
       "      <th>Output</th>\n",
       "    </tr>\n",
       "  </thead>\n",
       "  <tbody>\n",
       "    <tr>\n",
       "      <th>0</th>\n",
       "      <td>6</td>\n",
       "      <td>148.0</td>\n",
       "      <td>72.0</td>\n",
       "      <td>35.0</td>\n",
       "      <td>169.5</td>\n",
       "      <td>33.6</td>\n",
       "      <td>0.627</td>\n",
       "      <td>50</td>\n",
       "      <td>1</td>\n",
       "    </tr>\n",
       "    <tr>\n",
       "      <th>1</th>\n",
       "      <td>1</td>\n",
       "      <td>85.0</td>\n",
       "      <td>66.0</td>\n",
       "      <td>29.0</td>\n",
       "      <td>102.5</td>\n",
       "      <td>26.6</td>\n",
       "      <td>0.351</td>\n",
       "      <td>31</td>\n",
       "      <td>0</td>\n",
       "    </tr>\n",
       "    <tr>\n",
       "      <th>2</th>\n",
       "      <td>8</td>\n",
       "      <td>183.0</td>\n",
       "      <td>64.0</td>\n",
       "      <td>32.0</td>\n",
       "      <td>169.5</td>\n",
       "      <td>23.3</td>\n",
       "      <td>0.672</td>\n",
       "      <td>32</td>\n",
       "      <td>1</td>\n",
       "    </tr>\n",
       "    <tr>\n",
       "      <th>3</th>\n",
       "      <td>1</td>\n",
       "      <td>89.0</td>\n",
       "      <td>66.0</td>\n",
       "      <td>23.0</td>\n",
       "      <td>94.0</td>\n",
       "      <td>28.1</td>\n",
       "      <td>0.167</td>\n",
       "      <td>21</td>\n",
       "      <td>0</td>\n",
       "    </tr>\n",
       "    <tr>\n",
       "      <th>4</th>\n",
       "      <td>0</td>\n",
       "      <td>137.0</td>\n",
       "      <td>40.0</td>\n",
       "      <td>35.0</td>\n",
       "      <td>168.0</td>\n",
       "      <td>43.1</td>\n",
       "      <td>0.449</td>\n",
       "      <td>33</td>\n",
       "      <td>1</td>\n",
       "    </tr>\n",
       "  </tbody>\n",
       "</table>\n",
       "</div>"
      ],
      "text/plain": [
       "   n_pregnant  glucose_conc    bp  skin_len  insulin   bmi  pedigree_fun  age  \\\n",
       "0           6         148.0  72.0      35.0    169.5  33.6         0.627   50   \n",
       "1           1          85.0  66.0      29.0    102.5  26.6         0.351   31   \n",
       "2           8         183.0  64.0      32.0    169.5  23.3         0.672   32   \n",
       "3           1          89.0  66.0      23.0     94.0  28.1         0.167   21   \n",
       "4           0         137.0  40.0      35.0    168.0  43.1         0.449   33   \n",
       "\n",
       "   Output  \n",
       "0       1  \n",
       "1       0  \n",
       "2       1  \n",
       "3       0  \n",
       "4       1  "
      ]
     },
     "execution_count": 15,
     "metadata": {},
     "output_type": "execute_result"
    }
   ],
   "source": [
    "df.head()"
   ]
  },
  {
   "cell_type": "code",
   "execution_count": 16,
   "id": "c9d75925",
   "metadata": {},
   "outputs": [
    {
     "data": {
      "text/plain": [
       "array([1, 0], dtype=int64)"
      ]
     },
     "execution_count": 16,
     "metadata": {},
     "output_type": "execute_result"
    }
   ],
   "source": [
    "df['Output'].unique()"
   ]
  },
  {
   "cell_type": "code",
   "execution_count": 17,
   "id": "9666341a",
   "metadata": {},
   "outputs": [
    {
     "data": {
      "image/png": "[encoded data removed]",
      "text/plain": [
       "<Figure size 432x288 with 1 Axes>"
      ]
     },
     "metadata": {
      "needs_background": "light"
     },
     "output_type": "display_data"
    }
   ],
   "source": [
    "#data visulation\n",
    "plt.plot(df['bp'],'o')\n",
    "plt.plot(df['bmi'],'o')\n",
    "plt.title('bp vs bmi')\n",
    "plt.legend(['bp','bmi'], loc='upper left')\n",
    "plt.show()\n",
    "#BLUE FOR BP\n",
    "#ORANGE FOR BMI"
   ]
  },
  {
   "cell_type": "code",
   "execution_count": 17,
   "id": "fda6dd0f",
   "metadata": {},
   "outputs": [
    {
     "name": "stderr",
     "output_type": "stream",
     "text": [
      "C:\\Users\\dell\\AppData\\Local\\Temp/ipykernel_15252/1028016794.py:2: UserWarning: Pandas doesn't allow columns to be created via a new attribute name - see https://pandas.pydata.org/pandas-docs/stable/indexing.html#attribute-access\n",
      "  df.col=['n_pregnant','glucose_conc','bp','skin_len','insulin','bmi','pedigree_fun','age','Output']\n"
     ]
    }
   ],
   "source": [
    "scaler = MinMaxScaler()\n",
    "df.col=['n_pregnant','glucose_conc','bp','skin_len','insulin','bmi','pedigree_fun','age','Output']\n",
    "df[df.col]= scaler.fit_transform(df[df.col])"
   ]
  },
  {
   "cell_type": "code",
   "execution_count": 19,
   "id": "e2dd4cfe",
   "metadata": {},
   "outputs": [
    {
     "data": {
      "text/html": [
       "<div>\n",
       "<style scoped>\n",
       "    .dataframe tbody tr th:only-of-type {\n",
       "        vertical-align: middle;\n",
       "    }\n",
       "\n",
       "    .dataframe tbody tr th {\n",
       "        vertical-align: top;\n",
       "    }\n",
       "\n",
       "    .dataframe thead th {\n",
       "        text-align: right;\n",
       "    }\n",
       "</style>\n",
       "<table border=\"1\" class=\"dataframe\">\n",
       "  <thead>\n",
       "    <tr style=\"text-align: right;\">\n",
       "      <th></th>\n",
       "      <th>n_pregnant</th>\n",
       "      <th>glucose_conc</th>\n",
       "      <th>bp</th>\n",
       "      <th>skin_len</th>\n",
       "      <th>insulin</th>\n",
       "      <th>bmi</th>\n",
       "      <th>pedigree_fun</th>\n",
       "      <th>age</th>\n",
       "      <th>Output</th>\n",
       "    </tr>\n",
       "  </thead>\n",
       "  <tbody>\n",
       "    <tr>\n",
       "      <th>0</th>\n",
       "      <td>0.461538</td>\n",
       "      <td>0.670968</td>\n",
       "      <td>0.516129</td>\n",
       "      <td>0.833333</td>\n",
       "      <td>0.186899</td>\n",
       "      <td>0.518519</td>\n",
       "      <td>0.597388</td>\n",
       "      <td>0.725</td>\n",
       "      <td>1.0</td>\n",
       "    </tr>\n",
       "    <tr>\n",
       "      <th>1</th>\n",
       "      <td>0.076923</td>\n",
       "      <td>0.264516</td>\n",
       "      <td>0.419355</td>\n",
       "      <td>0.500000</td>\n",
       "      <td>0.106370</td>\n",
       "      <td>0.282828</td>\n",
       "      <td>0.297062</td>\n",
       "      <td>0.250</td>\n",
       "      <td>0.0</td>\n",
       "    </tr>\n",
       "    <tr>\n",
       "      <th>2</th>\n",
       "      <td>0.615385</td>\n",
       "      <td>0.896774</td>\n",
       "      <td>0.387097</td>\n",
       "      <td>0.666667</td>\n",
       "      <td>0.186899</td>\n",
       "      <td>0.171717</td>\n",
       "      <td>0.646355</td>\n",
       "      <td>0.275</td>\n",
       "      <td>1.0</td>\n",
       "    </tr>\n",
       "    <tr>\n",
       "      <th>3</th>\n",
       "      <td>0.076923</td>\n",
       "      <td>0.290323</td>\n",
       "      <td>0.419355</td>\n",
       "      <td>0.166667</td>\n",
       "      <td>0.096154</td>\n",
       "      <td>0.333333</td>\n",
       "      <td>0.096844</td>\n",
       "      <td>0.000</td>\n",
       "      <td>0.0</td>\n",
       "    </tr>\n",
       "    <tr>\n",
       "      <th>4</th>\n",
       "      <td>0.000000</td>\n",
       "      <td>0.600000</td>\n",
       "      <td>0.000000</td>\n",
       "      <td>0.833333</td>\n",
       "      <td>0.185096</td>\n",
       "      <td>0.838384</td>\n",
       "      <td>0.403700</td>\n",
       "      <td>0.300</td>\n",
       "      <td>1.0</td>\n",
       "    </tr>\n",
       "    <tr>\n",
       "      <th>...</th>\n",
       "      <td>...</td>\n",
       "      <td>...</td>\n",
       "      <td>...</td>\n",
       "      <td>...</td>\n",
       "      <td>...</td>\n",
       "      <td>...</td>\n",
       "      <td>...</td>\n",
       "      <td>...</td>\n",
       "      <td>...</td>\n",
       "    </tr>\n",
       "    <tr>\n",
       "      <th>763</th>\n",
       "      <td>0.769231</td>\n",
       "      <td>0.367742</td>\n",
       "      <td>0.580645</td>\n",
       "      <td>0.388889</td>\n",
       "      <td>0.199519</td>\n",
       "      <td>0.494949</td>\n",
       "      <td>0.101197</td>\n",
       "      <td>0.150</td>\n",
       "      <td>0.0</td>\n",
       "    </tr>\n",
       "    <tr>\n",
       "      <th>764</th>\n",
       "      <td>0.153846</td>\n",
       "      <td>0.503226</td>\n",
       "      <td>0.483871</td>\n",
       "      <td>0.388889</td>\n",
       "      <td>0.106370</td>\n",
       "      <td>0.626263</td>\n",
       "      <td>0.285092</td>\n",
       "      <td>0.150</td>\n",
       "      <td>0.0</td>\n",
       "    </tr>\n",
       "    <tr>\n",
       "      <th>765</th>\n",
       "      <td>0.384615</td>\n",
       "      <td>0.496774</td>\n",
       "      <td>0.516129</td>\n",
       "      <td>0.166667</td>\n",
       "      <td>0.117788</td>\n",
       "      <td>0.269360</td>\n",
       "      <td>0.181719</td>\n",
       "      <td>0.225</td>\n",
       "      <td>0.0</td>\n",
       "    </tr>\n",
       "    <tr>\n",
       "      <th>766</th>\n",
       "      <td>0.076923</td>\n",
       "      <td>0.529032</td>\n",
       "      <td>0.322581</td>\n",
       "      <td>0.666667</td>\n",
       "      <td>0.186899</td>\n",
       "      <td>0.400673</td>\n",
       "      <td>0.294886</td>\n",
       "      <td>0.650</td>\n",
       "      <td>1.0</td>\n",
       "    </tr>\n",
       "    <tr>\n",
       "      <th>767</th>\n",
       "      <td>0.076923</td>\n",
       "      <td>0.316129</td>\n",
       "      <td>0.483871</td>\n",
       "      <td>0.611111</td>\n",
       "      <td>0.106370</td>\n",
       "      <td>0.410774</td>\n",
       "      <td>0.257889</td>\n",
       "      <td>0.050</td>\n",
       "      <td>0.0</td>\n",
       "    </tr>\n",
       "  </tbody>\n",
       "</table>\n",
       "<p>768 rows × 9 columns</p>\n",
       "</div>"
      ],
      "text/plain": [
       "     n_pregnant  glucose_conc        bp  skin_len   insulin       bmi  \\\n",
       "0      0.461538      0.670968  0.516129  0.833333  0.186899  0.518519   \n",
       "1      0.076923      0.264516  0.419355  0.500000  0.106370  0.282828   \n",
       "2      0.615385      0.896774  0.387097  0.666667  0.186899  0.171717   \n",
       "3      0.076923      0.290323  0.419355  0.166667  0.096154  0.333333   \n",
       "4      0.000000      0.600000  0.000000  0.833333  0.185096  0.838384   \n",
       "..          ...           ...       ...       ...       ...       ...   \n",
       "763    0.769231      0.367742  0.580645  0.388889  0.199519  0.494949   \n",
       "764    0.153846      0.503226  0.483871  0.388889  0.106370  0.626263   \n",
       "765    0.384615      0.496774  0.516129  0.166667  0.117788  0.269360   \n",
       "766    0.076923      0.529032  0.322581  0.666667  0.186899  0.400673   \n",
       "767    0.076923      0.316129  0.483871  0.611111  0.106370  0.410774   \n",
       "\n",
       "     pedigree_fun    age  Output  \n",
       "0        0.597388  0.725     1.0  \n",
       "1        0.297062  0.250     0.0  \n",
       "2        0.646355  0.275     1.0  \n",
       "3        0.096844  0.000     0.0  \n",
       "4        0.403700  0.300     1.0  \n",
       "..            ...    ...     ...  \n",
       "763      0.101197  0.150     0.0  \n",
       "764      0.285092  0.150     0.0  \n",
       "765      0.181719  0.225     0.0  \n",
       "766      0.294886  0.650     1.0  \n",
       "767      0.257889  0.050     0.0  \n",
       "\n",
       "[768 rows x 9 columns]"
      ]
     },
     "execution_count": 19,
     "metadata": {},
     "output_type": "execute_result"
    }
   ],
   "source": [
    "df"
   ]
  },
  {
   "cell_type": "code",
   "execution_count": 20,
   "id": "a4494493",
   "metadata": {},
   "outputs": [
    {
     "name": "stderr",
     "output_type": "stream",
     "text": [
      "C:\\Users\\dell\\AppData\\Local\\Temp/ipykernel_15252/1330833549.py:2: FutureWarning: In a future version of pandas all arguments of DataFrame.drop except for the argument 'labels' will be keyword-only\n",
      "  X = df.drop(['Output'], 1)\n"
     ]
    }
   ],
   "source": [
    "#Splitting the Data\n",
    "X = df.drop(['Output'], 1)\n",
    "y = df['Output']\n",
    "X_train,X_test,y_train,y_test=train_test_split(X,y,test_size=0.2,random_state=0)"
   ]
  },
  {
   "cell_type": "code",
   "execution_count": 21,
   "id": "8710dbec",
   "metadata": {},
   "outputs": [
    {
     "data": {
      "text/plain": [
       "(614, 8)"
      ]
     },
     "execution_count": 21,
     "metadata": {},
     "output_type": "execute_result"
    }
   ],
   "source": [
    "X_train.shape"
   ]
  },
  {
   "cell_type": "code",
   "execution_count": 22,
   "id": "9e6fb9f5",
   "metadata": {},
   "outputs": [
    {
     "data": {
      "text/plain": [
       "(154, 8)"
      ]
     },
     "execution_count": 22,
     "metadata": {},
     "output_type": "execute_result"
    }
   ],
   "source": [
    "X_test.shape"
   ]
  },
  {
   "cell_type": "code",
   "execution_count": 23,
   "id": "1681de36",
   "metadata": {},
   "outputs": [
    {
     "name": "stdout",
     "output_type": "stream",
     "text": [
      "Epoch 1/100\n",
      "18/18 [==============================] - 4s 112ms/step - loss: 0.6921 - accuracy: 0.6159 - val_loss: 0.6890 - val_accuracy: 0.6935\n",
      "Epoch 2/100\n",
      "18/18 [==============================] - 1s 65ms/step - loss: 0.6892 - accuracy: 0.6341 - val_loss: 0.6849 - val_accuracy: 0.6935\n",
      "Epoch 3/100\n",
      "18/18 [==============================] - 1s 78ms/step - loss: 0.6860 - accuracy: 0.6341 - val_loss: 0.6805 - val_accuracy: 0.6935\n",
      "Epoch 4/100\n",
      "18/18 [==============================] - 0s 18ms/step - loss: 0.6827 - accuracy: 0.6341 - val_loss: 0.6745 - val_accuracy: 0.6935\n",
      "Epoch 5/100\n",
      "18/18 [==============================] - 0s 12ms/step - loss: 0.6781 - accuracy: 0.6341 - val_loss: 0.6678 - val_accuracy: 0.6935\n",
      "Epoch 6/100\n",
      "18/18 [==============================] - 0s 13ms/step - loss: 0.6737 - accuracy: 0.6341 - val_loss: 0.6621 - val_accuracy: 0.6935\n",
      "Epoch 7/100\n",
      "18/18 [==============================] - 0s 13ms/step - loss: 0.6693 - accuracy: 0.6341 - val_loss: 0.6559 - val_accuracy: 0.6935\n",
      "Epoch 8/100\n",
      "18/18 [==============================] - 0s 15ms/step - loss: 0.6650 - accuracy: 0.6341 - val_loss: 0.6492 - val_accuracy: 0.6935\n",
      "Epoch 9/100\n",
      "18/18 [==============================] - 0s 14ms/step - loss: 0.6605 - accuracy: 0.6341 - val_loss: 0.6431 - val_accuracy: 0.6935\n",
      "Epoch 10/100\n",
      "18/18 [==============================] - 0s 13ms/step - loss: 0.6563 - accuracy: 0.6341 - val_loss: 0.6361 - val_accuracy: 0.6935\n",
      "Epoch 11/100\n",
      "18/18 [==============================] - 0s 13ms/step - loss: 0.6515 - accuracy: 0.6341 - val_loss: 0.6301 - val_accuracy: 0.6935\n",
      "Epoch 12/100\n",
      "18/18 [==============================] - 0s 13ms/step - loss: 0.6473 - accuracy: 0.6341 - val_loss: 0.6243 - val_accuracy: 0.6935\n",
      "Epoch 13/100\n",
      "18/18 [==============================] - 0s 14ms/step - loss: 0.6433 - accuracy: 0.6341 - val_loss: 0.6184 - val_accuracy: 0.6935\n",
      "Epoch 14/100\n",
      "18/18 [==============================] - 0s 15ms/step - loss: 0.6390 - accuracy: 0.6341 - val_loss: 0.6129 - val_accuracy: 0.6935\n",
      "Epoch 15/100\n",
      "18/18 [==============================] - 0s 14ms/step - loss: 0.6344 - accuracy: 0.6341 - val_loss: 0.6068 - val_accuracy: 0.6935\n",
      "Epoch 16/100\n",
      "18/18 [==============================] - 0s 17ms/step - loss: 0.6301 - accuracy: 0.6341 - val_loss: 0.6002 - val_accuracy: 0.6935\n",
      "Epoch 17/100\n",
      "18/18 [==============================] - 0s 15ms/step - loss: 0.6264 - accuracy: 0.6341 - val_loss: 0.5962 - val_accuracy: 0.6935\n",
      "Epoch 18/100\n",
      "18/18 [==============================] - 0s 16ms/step - loss: 0.6191 - accuracy: 0.6341 - val_loss: 0.5889 - val_accuracy: 0.6935\n",
      "Epoch 19/100\n",
      "18/18 [==============================] - 0s 14ms/step - loss: 0.6132 - accuracy: 0.6341 - val_loss: 0.5815 - val_accuracy: 0.6935\n",
      "Epoch 20/100\n",
      "18/18 [==============================] - 0s 11ms/step - loss: 0.6078 - accuracy: 0.6341 - val_loss: 0.5751 - val_accuracy: 0.6935\n",
      "Epoch 21/100\n",
      "18/18 [==============================] - 0s 10ms/step - loss: 0.6015 - accuracy: 0.6341 - val_loss: 0.5688 - val_accuracy: 0.6935\n",
      "Epoch 22/100\n",
      "18/18 [==============================] - 0s 14ms/step - loss: 0.5948 - accuracy: 0.6341 - val_loss: 0.5619 - val_accuracy: 0.6935\n",
      "Epoch 23/100\n",
      "18/18 [==============================] - 0s 14ms/step - loss: 0.5871 - accuracy: 0.6341 - val_loss: 0.5542 - val_accuracy: 0.6935\n",
      "Epoch 24/100\n",
      "18/18 [==============================] - 0s 14ms/step - loss: 0.5789 - accuracy: 0.6341 - val_loss: 0.5460 - val_accuracy: 0.6935\n",
      "Epoch 25/100\n",
      "18/18 [==============================] - 0s 10ms/step - loss: 0.5702 - accuracy: 0.6341 - val_loss: 0.5366 - val_accuracy: 0.6935\n",
      "Epoch 26/100\n",
      "18/18 [==============================] - 0s 12ms/step - loss: 0.5606 - accuracy: 0.6341 - val_loss: 0.5273 - val_accuracy: 0.6935\n",
      "Epoch 27/100\n",
      "18/18 [==============================] - 0s 13ms/step - loss: 0.5499 - accuracy: 0.6341 - val_loss: 0.5188 - val_accuracy: 0.6935\n",
      "Epoch 28/100\n",
      "18/18 [==============================] - 0s 14ms/step - loss: 0.5407 - accuracy: 0.6341 - val_loss: 0.5132 - val_accuracy: 0.6935\n",
      "Epoch 29/100\n",
      "18/18 [==============================] - 0s 14ms/step - loss: 0.5325 - accuracy: 0.6341 - val_loss: 0.5059 - val_accuracy: 0.6935\n",
      "Epoch 30/100\n",
      "18/18 [==============================] - 0s 12ms/step - loss: 0.5252 - accuracy: 0.6341 - val_loss: 0.4993 - val_accuracy: 0.6935\n",
      "Epoch 31/100\n",
      "18/18 [==============================] - 0s 14ms/step - loss: 0.5188 - accuracy: 0.6341 - val_loss: 0.4944 - val_accuracy: 0.6935\n",
      "Epoch 32/100\n",
      "18/18 [==============================] - 0s 14ms/step - loss: 0.5116 - accuracy: 0.6341 - val_loss: 0.4882 - val_accuracy: 0.6935\n",
      "Epoch 33/100\n",
      "18/18 [==============================] - 0s 13ms/step - loss: 0.5055 - accuracy: 0.6341 - val_loss: 0.4819 - val_accuracy: 0.6935\n",
      "Epoch 34/100\n",
      "18/18 [==============================] - 0s 11ms/step - loss: 0.4984 - accuracy: 0.6341 - val_loss: 0.4771 - val_accuracy: 0.6935\n",
      "Epoch 35/100\n",
      "18/18 [==============================] - 0s 16ms/step - loss: 0.4930 - accuracy: 0.6341 - val_loss: 0.4730 - val_accuracy: 0.6935\n",
      "Epoch 36/100\n",
      "18/18 [==============================] - 0s 13ms/step - loss: 0.4877 - accuracy: 0.7283 - val_loss: 0.4692 - val_accuracy: 0.7903\n",
      "Epoch 37/100\n",
      "18/18 [==============================] - 0s 13ms/step - loss: 0.4823 - accuracy: 0.7989 - val_loss: 0.4662 - val_accuracy: 0.7903\n",
      "Epoch 38/100\n",
      "18/18 [==============================] - 0s 11ms/step - loss: 0.4786 - accuracy: 0.7935 - val_loss: 0.4624 - val_accuracy: 0.7903\n",
      "Epoch 39/100\n",
      "18/18 [==============================] - 0s 14ms/step - loss: 0.4742 - accuracy: 0.8134 - val_loss: 0.4590 - val_accuracy: 0.7903\n",
      "Epoch 40/100\n",
      "18/18 [==============================] - 0s 13ms/step - loss: 0.4700 - accuracy: 0.8152 - val_loss: 0.4556 - val_accuracy: 0.7903\n",
      "Epoch 41/100\n",
      "18/18 [==============================] - 0s 14ms/step - loss: 0.4660 - accuracy: 0.8134 - val_loss: 0.4558 - val_accuracy: 0.7903\n",
      "Epoch 42/100\n",
      "18/18 [==============================] - 0s 12ms/step - loss: 0.4648 - accuracy: 0.8225 - val_loss: 0.4568 - val_accuracy: 0.7903\n",
      "Epoch 43/100\n",
      "18/18 [==============================] - 0s 10ms/step - loss: 0.4614 - accuracy: 0.8062 - val_loss: 0.4521 - val_accuracy: 0.7903\n",
      "Epoch 44/100\n",
      "18/18 [==============================] - 0s 13ms/step - loss: 0.4565 - accuracy: 0.8207 - val_loss: 0.4536 - val_accuracy: 0.7903\n",
      "Epoch 45/100\n",
      "18/18 [==============================] - 0s 13ms/step - loss: 0.4533 - accuracy: 0.8261 - val_loss: 0.4508 - val_accuracy: 0.7903\n",
      "Epoch 46/100\n",
      "18/18 [==============================] - 0s 11ms/step - loss: 0.4517 - accuracy: 0.8225 - val_loss: 0.4508 - val_accuracy: 0.7903\n",
      "Epoch 47/100\n",
      "18/18 [==============================] - 0s 13ms/step - loss: 0.4490 - accuracy: 0.8315 - val_loss: 0.4495 - val_accuracy: 0.7903\n",
      "Epoch 48/100\n",
      "18/18 [==============================] - 0s 14ms/step - loss: 0.4454 - accuracy: 0.8243 - val_loss: 0.4513 - val_accuracy: 0.7903\n",
      "Epoch 49/100\n",
      "18/18 [==============================] - 0s 13ms/step - loss: 0.4436 - accuracy: 0.8207 - val_loss: 0.4482 - val_accuracy: 0.7903\n",
      "Epoch 50/100\n",
      "18/18 [==============================] - 0s 11ms/step - loss: 0.4407 - accuracy: 0.8351 - val_loss: 0.4480 - val_accuracy: 0.7903\n",
      "Epoch 51/100\n",
      "18/18 [==============================] - 0s 11ms/step - loss: 0.4394 - accuracy: 0.8261 - val_loss: 0.4468 - val_accuracy: 0.8065\n",
      "Epoch 52/100\n",
      "18/18 [==============================] - 0s 12ms/step - loss: 0.4358 - accuracy: 0.8351 - val_loss: 0.4524 - val_accuracy: 0.7903\n",
      "Epoch 53/100\n",
      "18/18 [==============================] - 0s 11ms/step - loss: 0.4364 - accuracy: 0.8333 - val_loss: 0.4458 - val_accuracy: 0.8065\n",
      "Epoch 54/100\n",
      "18/18 [==============================] - 0s 13ms/step - loss: 0.4347 - accuracy: 0.8170 - val_loss: 0.4443 - val_accuracy: 0.8226\n",
      "Epoch 55/100\n",
      "18/18 [==============================] - 0s 13ms/step - loss: 0.4339 - accuracy: 0.8406 - val_loss: 0.4452 - val_accuracy: 0.8226\n",
      "Epoch 56/100\n",
      "18/18 [==============================] - 0s 12ms/step - loss: 0.4302 - accuracy: 0.8315 - val_loss: 0.4509 - val_accuracy: 0.8065\n",
      "Epoch 57/100\n",
      "18/18 [==============================] - 0s 12ms/step - loss: 0.4272 - accuracy: 0.8406 - val_loss: 0.4442 - val_accuracy: 0.8065\n",
      "Epoch 58/100\n",
      "18/18 [==============================] - 0s 13ms/step - loss: 0.4262 - accuracy: 0.8297 - val_loss: 0.4517 - val_accuracy: 0.8065\n",
      "Epoch 59/100\n",
      "18/18 [==============================] - 0s 12ms/step - loss: 0.4266 - accuracy: 0.8460 - val_loss: 0.4440 - val_accuracy: 0.8065\n",
      "Epoch 60/100\n",
      "18/18 [==============================] - 0s 12ms/step - loss: 0.4277 - accuracy: 0.8442 - val_loss: 0.4441 - val_accuracy: 0.8065\n",
      "Epoch 61/100\n",
      "18/18 [==============================] - 0s 18ms/step - loss: 0.4261 - accuracy: 0.8279 - val_loss: 0.4426 - val_accuracy: 0.8065\n",
      "Epoch 62/100\n",
      "18/18 [==============================] - 0s 12ms/step - loss: 0.4212 - accuracy: 0.8388 - val_loss: 0.4410 - val_accuracy: 0.8065\n",
      "Epoch 63/100\n",
      "18/18 [==============================] - 0s 13ms/step - loss: 0.4192 - accuracy: 0.8478 - val_loss: 0.4473 - val_accuracy: 0.8226\n",
      "Epoch 64/100\n",
      "18/18 [==============================] - 0s 12ms/step - loss: 0.4185 - accuracy: 0.8478 - val_loss: 0.4470 - val_accuracy: 0.8065\n",
      "Epoch 65/100\n",
      "18/18 [==============================] - 0s 15ms/step - loss: 0.4174 - accuracy: 0.8496 - val_loss: 0.4468 - val_accuracy: 0.8065\n",
      "Epoch 66/100\n",
      "18/18 [==============================] - 0s 14ms/step - loss: 0.4155 - accuracy: 0.8460 - val_loss: 0.4419 - val_accuracy: 0.8065\n",
      "Epoch 67/100\n",
      "18/18 [==============================] - 0s 14ms/step - loss: 0.4136 - accuracy: 0.8460 - val_loss: 0.4482 - val_accuracy: 0.8065\n",
      "Epoch 68/100\n",
      "18/18 [==============================] - 0s 12ms/step - loss: 0.4136 - accuracy: 0.8460 - val_loss: 0.4452 - val_accuracy: 0.8065\n",
      "Epoch 69/100\n",
      "18/18 [==============================] - 0s 13ms/step - loss: 0.4118 - accuracy: 0.8478 - val_loss: 0.4476 - val_accuracy: 0.8065\n",
      "Epoch 70/100\n",
      "18/18 [==============================] - 0s 12ms/step - loss: 0.4103 - accuracy: 0.8478 - val_loss: 0.4435 - val_accuracy: 0.8065\n",
      "Epoch 71/100\n",
      "18/18 [==============================] - 0s 13ms/step - loss: 0.4091 - accuracy: 0.8496 - val_loss: 0.4446 - val_accuracy: 0.8065\n",
      "Epoch 72/100\n",
      "18/18 [==============================] - 0s 15ms/step - loss: 0.4091 - accuracy: 0.8478 - val_loss: 0.4492 - val_accuracy: 0.8065\n",
      "Epoch 73/100\n",
      "18/18 [==============================] - 0s 12ms/step - loss: 0.4088 - accuracy: 0.8406 - val_loss: 0.4431 - val_accuracy: 0.8065\n",
      "Epoch 74/100\n",
      "18/18 [==============================] - 0s 12ms/step - loss: 0.4070 - accuracy: 0.8460 - val_loss: 0.4518 - val_accuracy: 0.8226\n",
      "Epoch 75/100\n",
      "18/18 [==============================] - 0s 11ms/step - loss: 0.4047 - accuracy: 0.8496 - val_loss: 0.4422 - val_accuracy: 0.8065\n",
      "Epoch 76/100\n",
      "18/18 [==============================] - 0s 13ms/step - loss: 0.4047 - accuracy: 0.8442 - val_loss: 0.4435 - val_accuracy: 0.8065\n",
      "Epoch 77/100\n",
      "18/18 [==============================] - 0s 12ms/step - loss: 0.4038 - accuracy: 0.8478 - val_loss: 0.4454 - val_accuracy: 0.8065\n",
      "Epoch 78/100\n",
      "18/18 [==============================] - 0s 14ms/step - loss: 0.4032 - accuracy: 0.8442 - val_loss: 0.4439 - val_accuracy: 0.8065\n",
      "Epoch 79/100\n",
      "18/18 [==============================] - 0s 12ms/step - loss: 0.4004 - accuracy: 0.8478 - val_loss: 0.4452 - val_accuracy: 0.8065\n",
      "Epoch 80/100\n",
      "18/18 [==============================] - 0s 14ms/step - loss: 0.4003 - accuracy: 0.8442 - val_loss: 0.4469 - val_accuracy: 0.8065\n",
      "Epoch 81/100\n",
      "18/18 [==============================] - 0s 14ms/step - loss: 0.3996 - accuracy: 0.8478 - val_loss: 0.4468 - val_accuracy: 0.8065\n",
      "Epoch 82/100\n",
      "18/18 [==============================] - 0s 12ms/step - loss: 0.3981 - accuracy: 0.8496 - val_loss: 0.4491 - val_accuracy: 0.8065\n",
      "Epoch 83/100\n",
      "18/18 [==============================] - 0s 10ms/step - loss: 0.3972 - accuracy: 0.8442 - val_loss: 0.4490 - val_accuracy: 0.8065\n",
      "Epoch 84/100\n",
      "18/18 [==============================] - 0s 13ms/step - loss: 0.3960 - accuracy: 0.8442 - val_loss: 0.4476 - val_accuracy: 0.8065\n",
      "Epoch 85/100\n",
      "18/18 [==============================] - 0s 13ms/step - loss: 0.3951 - accuracy: 0.8442 - val_loss: 0.4501 - val_accuracy: 0.8065\n",
      "Epoch 86/100\n",
      "18/18 [==============================] - 0s 15ms/step - loss: 0.3949 - accuracy: 0.8478 - val_loss: 0.4473 - val_accuracy: 0.8065\n",
      "Epoch 87/100\n",
      "18/18 [==============================] - 0s 11ms/step - loss: 0.3933 - accuracy: 0.8460 - val_loss: 0.4479 - val_accuracy: 0.8065\n",
      "Epoch 88/100\n",
      "18/18 [==============================] - 0s 15ms/step - loss: 0.3926 - accuracy: 0.8496 - val_loss: 0.4491 - val_accuracy: 0.8065\n",
      "Epoch 89/100\n",
      "18/18 [==============================] - 0s 12ms/step - loss: 0.3938 - accuracy: 0.8551 - val_loss: 0.4480 - val_accuracy: 0.8065\n",
      "Epoch 90/100\n",
      "18/18 [==============================] - 0s 11ms/step - loss: 0.3916 - accuracy: 0.8496 - val_loss: 0.4561 - val_accuracy: 0.8065\n",
      "Epoch 91/100\n",
      "18/18 [==============================] - 0s 14ms/step - loss: 0.3897 - accuracy: 0.8442 - val_loss: 0.4503 - val_accuracy: 0.8065\n",
      "Epoch 92/100\n",
      "18/18 [==============================] - 0s 14ms/step - loss: 0.3898 - accuracy: 0.8496 - val_loss: 0.4512 - val_accuracy: 0.8065\n",
      "Epoch 93/100\n",
      "18/18 [==============================] - 0s 10ms/step - loss: 0.3886 - accuracy: 0.8460 - val_loss: 0.4529 - val_accuracy: 0.8065\n",
      "Epoch 94/100\n",
      "18/18 [==============================] - 0s 15ms/step - loss: 0.3881 - accuracy: 0.8551 - val_loss: 0.4507 - val_accuracy: 0.8065\n",
      "Epoch 95/100\n",
      "18/18 [==============================] - 0s 12ms/step - loss: 0.3876 - accuracy: 0.8533 - val_loss: 0.4513 - val_accuracy: 0.8065\n",
      "Epoch 96/100\n",
      "18/18 [==============================] - 0s 10ms/step - loss: 0.3881 - accuracy: 0.8533 - val_loss: 0.4503 - val_accuracy: 0.8065\n",
      "Epoch 97/100\n",
      "18/18 [==============================] - 0s 12ms/step - loss: 0.3852 - accuracy: 0.8533 - val_loss: 0.4553 - val_accuracy: 0.8065\n",
      "Epoch 98/100\n",
      "18/18 [==============================] - 0s 14ms/step - loss: 0.3866 - accuracy: 0.8460 - val_loss: 0.4518 - val_accuracy: 0.8065\n",
      "Epoch 99/100\n",
      "18/18 [==============================] - 0s 11ms/step - loss: 0.3844 - accuracy: 0.8478 - val_loss: 0.4566 - val_accuracy: 0.8065\n",
      "Epoch 100/100\n",
      "18/18 [==============================] - 0s 15ms/step - loss: 0.3835 - accuracy: 0.8514 - val_loss: 0.4518 - val_accuracy: 0.8065\n"
     ]
    }
   ],
   "source": [
    "model = keras.Sequential([\n",
    "    keras.layers.Dense(7, input_shape=(8,), activation='relu'),\n",
    "    keras.layers.Dense(6, input_shape=(8,), activation='relu'),\n",
    "    keras.layers.Dense(4, input_shape=(8,), activation='relu'),\n",
    "    keras.layers.Dense(2, input_shape=(8,), activation='relu'),\n",
    "    keras.layers.Dense(1, activation='sigmoid'),   \n",
    "])\n",
    "\n",
    "model.compile (optimizer = \"adam\",\n",
    "               loss=\"binary_crossentropy\",\n",
    "               metrics=['accuracy'])\n",
    "\n",
    "history=model.fit(X_train, y_train, epochs=100, validation_split=0.1)"
   ]
  },
  {
   "cell_type": "code",
   "execution_count": 24,
   "id": "74568c90",
   "metadata": {},
   "outputs": [
    {
     "data": {
      "text/plain": [
       "array([[0.672025  ],\n",
       "       [0.07254764],\n",
       "       [0.02618325],\n",
       "       [0.672025  ],\n",
       "       [0.11456653],\n",
       "       [0.00485569],\n",
       "       [0.672025  ],\n",
       "       [0.672025  ],\n",
       "       [0.37525898],\n",
       "       [0.61784005],\n",
       "       [0.672025  ],\n",
       "       [0.672025  ],\n",
       "       [0.24880105],\n",
       "       [0.00871828],\n",
       "       [0.02065983]], dtype=float32)"
      ]
     },
     "execution_count": 24,
     "metadata": {},
     "output_type": "execute_result"
    }
   ],
   "source": [
    "yp=model.predict(X_test)\n",
    "yp[:15]"
   ]
  },
  {
   "cell_type": "code",
   "execution_count": 25,
   "id": "12139876",
   "metadata": {},
   "outputs": [
    {
     "data": {
      "text/plain": [
       "661    1.0\n",
       "122    0.0\n",
       "113    0.0\n",
       "14     1.0\n",
       "529    0.0\n",
       "103    0.0\n",
       "338    1.0\n",
       "588    1.0\n",
       "395    0.0\n",
       "204    0.0\n",
       "Name: Output, dtype: float64"
      ]
     },
     "execution_count": 25,
     "metadata": {},
     "output_type": "execute_result"
    }
   ],
   "source": [
    "y_test[:10]"
   ]
  },
  {
   "cell_type": "code",
   "execution_count": 26,
   "id": "75fe1b65",
   "metadata": {},
   "outputs": [],
   "source": [
    "y_pred = []\n",
    "for element in yp:\n",
    "    if element > .5:\n",
    "        y_pred.append(1)\n",
    "    else:\n",
    "        y_pred.append(0)"
   ]
  },
  {
   "cell_type": "code",
   "execution_count": 27,
   "id": "584612d1",
   "metadata": {},
   "outputs": [
    {
     "data": {
      "text/plain": [
       "[1, 0, 0, 1, 0, 0, 1, 1, 0, 1]"
      ]
     },
     "execution_count": 27,
     "metadata": {},
     "output_type": "execute_result"
    }
   ],
   "source": [
    "y_pred[:10]"
   ]
  },
  {
   "cell_type": "code",
   "execution_count": 49,
   "id": "85c4d1a9",
   "metadata": {},
   "outputs": [
    {
     "name": "stdout",
     "output_type": "stream",
     "text": [
      "              precision    recall  f1-score   support\n",
      "\n",
      "         0.0       0.95      0.86      0.90       107\n",
      "         1.0       0.74      0.89      0.81        47\n",
      "\n",
      "    accuracy                           0.87       154\n",
      "   macro avg       0.84      0.88      0.85       154\n",
      "weighted avg       0.88      0.87      0.87       154\n",
      "\n"
     ]
    }
   ],
   "source": [
    "print(classification_report(y_test,y_pred))"
   ]
  },
  {
   "cell_type": "code",
   "execution_count": 28,
   "id": "18f2e116",
   "metadata": {},
   "outputs": [
    {
     "data": {
      "text/plain": [
       "Text(69.0, 0.5, 'Truth')"
      ]
     },
     "execution_count": 28,
     "metadata": {},
     "output_type": "execute_result"
    },
    {
     "data": {
      "image/png": "[encoded data removed]",
      "text/plain": [
       "<Figure size 720x504 with 2 Axes>"
      ]
     },
     "metadata": {
      "needs_background": "light"
     },
     "output_type": "display_data"
    }
   ],
   "source": [
    "cm=tf.math.confusion_matrix(labels=y_test,predictions=y_pred)\n",
    "plt.figure(figsize=(10,7))\n",
    "sns.heatmap(cm, annot=True, fmt='d')\n",
    "plt.xlabel('Predicted')\n",
    "plt.ylabel('Truth')"
   ]
  },
  {
   "cell_type": "code",
   "execution_count": 29,
   "id": "c1483144",
   "metadata": {},
   "outputs": [
    {
     "data": {
      "text/plain": [
       "0.86"
      ]
     },
     "execution_count": 29,
     "metadata": {},
     "output_type": "execute_result"
    }
   ],
   "source": [
    "round((93+39)/(93+39+8+14),2)"
   ]
  },
  {
   "cell_type": "code",
   "execution_count": 52,
   "id": "11136253",
   "metadata": {},
   "outputs": [
    {
     "data": {
      "image/png": "[encoded data removed]",
      "text/plain": [
       "<Figure size 432x288 with 1 Axes>"
      ]
     },
     "metadata": {
      "needs_background": "light"
     },
     "output_type": "display_data"
    }
   ],
   "source": [
    "plt.plot(history.history['accuracy'])\n",
    "plt.title('model accuracy')\n",
    "plt.ylabel('accuracy')\n",
    "plt.xlabel('epoch')\n",
    "plt.legend(['testig data'],loc='upper left')\n",
    "plt.show()"
   ]
  },
  {
   "cell_type": "code",
   "execution_count": 30,
   "id": "816a45b6",
   "metadata": {},
   "outputs": [
    {
     "data": {
      "image/png": "[encoded data removed]",
      "text/plain": [
       "<Figure size 432x288 with 1 Axes>"
      ]
     },
     "metadata": {
      "needs_background": "light"
     },
     "output_type": "display_data"
    }
   ],
   "source": [
    "plt.plot(history.history['loss'])\n",
    "plt.title('model loss')\n",
    "plt.ylabel('loss')\n",
    "plt.xlabel('epoch')\n",
    "plt.legend(['testing data'],loc='upper left')\n",
    "plt.show()"
   ]
  },
  {
   "cell_type": "code",
   "execution_count": 31,
   "id": "78c7d546",
   "metadata": {},
   "outputs": [
    {
     "data": {
      "text/plain": [
       "0.8701298701298701"
      ]
     },
     "execution_count": 31,
     "metadata": {},
     "output_type": "execute_result"
    }
   ],
   "source": [
    "accuracy_score(y_test, y_pred)"
   ]
  },
  {
   "cell_type": "code",
   "execution_count": 32,
   "id": "66cc8ee2",
   "metadata": {},
   "outputs": [
    {
     "name": "stdout",
     "output_type": "stream",
     "text": [
      "ROC AUC: 0.88\n"
     ]
    },
    {
     "data": {
      "image/png": "[encoded data removed]",
      "text/plain": [
       "<Figure size 432x288 with 1 Axes>"
      ]
     },
     "metadata": {
      "needs_background": "light"
     },
     "output_type": "display_data"
    }
   ],
   "source": [
    "fpr,tpr,_=roc_curve(y_test,y_pred)\n",
    "#calculate AUC\n",
    "roc_auc=auc(fpr,tpr)\n",
    "print('ROC AUC: %0.2f' % roc_auc)\n",
    "#plot of ROC curve for a specified class\n",
    "plt.figure()\n",
    "plt.plot(fpr,tpr,label='ROC curve(area= %2.f)' %roc_auc)\n",
    "plt.plot([0,1],[0,1],'k--')\n",
    "plt.xlim([0.0,1.0])\n",
    "plt.ylim([0.0,1.05])\n",
    "plt.xlabel('False positive rate')\n",
    "plt.ylabel('True positive rate')\n",
    "plt.title('ROC curve')\n",
    "plt.legend(loc='lower right')\n",
    "plt.grid()\n",
    "plt.show()"
   ]
  },
  {
   "cell_type": "code",
   "execution_count": null,
   "id": "9de2bb88",
   "metadata": {},
   "outputs": [],
   "source": []
  }
 ],
 "metadata": {
  "kernelspec": {
   "display_name": "Python 3",
   "language": "python",
   "name": "python3"
  },
  "language_info": {
   "codemirror_mode": {
    "name": "ipython",
    "version": 3
   },
   "file_extension": ".py",
   "mimetype": "text/x-python",
   "name": "python",
   "nbconvert_exporter": "python",
   "pygments_lexer": "ipython3",
   "version": "3.8.8"
  }
 },
 "nbformat": 4,
 "nbformat_minor": 5
}
