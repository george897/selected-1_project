{
 "cells": [
  {
   "cell_type": "code",
   "execution_count": 1,
   "id": "f74d49d2",
   "metadata": {},
   "outputs": [],
   "source": [
    "#porting Important Libraries\n",
    "import pandas as pd\n",
    "import numpy as np\n",
    "import matplotlib.pyplot as plt\n",
    "%matplotlib inline\n",
    "\n",
    "import seaborn as sns\n",
    "from sklearn.model_selection import train_test_split\n",
    "from sklearn.preprocessing import StandardScaler\n",
    "from sklearn.preprocessing import MinMaxScaler\n",
    "from sklearn.metrics import confusion_matrix,classification_report,roc_curve,accuracy_score,auc,hinge_loss,roc_auc_score\n",
    "from sklearn.svm import SVC\n",
    "from sklearn.model_selection import GridSearchCV\n",
    "\n",
    "import tensorflow as tf\n",
    "from tensorflow import keras\n",
    "from tensorflow.keras.models import Sequential\n",
    "from tensorflow.keras.layers import Dense, Dropout, Activation, Conv2D,MaxPooling2D, Flatten"
   ]
  },
  {
   "cell_type": "code",
   "execution_count": 2,
   "id": "132bb29f",
   "metadata": {},
   "outputs": [],
   "source": [
    "df= pd.read_csv('Diabetes.csv')"
   ]
  },
  {
   "cell_type": "code",
   "execution_count": 3,
   "id": "ba460333",
   "metadata": {},
   "outputs": [],
   "source": [
    "title_mapping = {'YES':1,'NO':0}\n",
    "df[' Class variable']=df[' Class variable'].map(title_mapping)"
   ]
  },
  {
   "cell_type": "code",
   "execution_count": 4,
   "id": "b796bc77",
   "metadata": {},
   "outputs": [],
   "source": [
    "col=['n_pregnant','glucose_conc','bp','skin_len','insulin','bmi','pedigree_fun','age','Output']\n",
    "df.columns=col"
   ]
  },
  {
   "cell_type": "code",
   "execution_count": 5,
   "id": "7794ae83",
   "metadata": {},
   "outputs": [],
   "source": [
    "diabetes_true_count = len(df.loc[df['Output'] == True])\n",
    "diabetes_false_count = len(df.loc[df['Output'] == False])"
   ]
  },
  {
   "cell_type": "code",
   "execution_count": 6,
   "id": "2e0ce544",
   "metadata": {},
   "outputs": [],
   "source": [
    "col=['glucose_conc','bp','insulin','bmi','skin_len']\n",
    "for i in col:\n",
    "    df[i].replace(0, np.nan, inplace= True)"
   ]
  },
  {
   "cell_type": "code",
   "execution_count": 7,
   "id": "06df4f65",
   "metadata": {},
   "outputs": [],
   "source": [
    "def median_target(var):\n",
    "    temp = df[df[var].notnull()]\n",
    "    temp = temp[[var, 'Output']].groupby(['Output'])[[var]].median().reset_index()\n",
    "    return temp"
   ]
  },
  {
   "cell_type": "code",
   "execution_count": 8,
   "id": "2ccff7ed",
   "metadata": {},
   "outputs": [
    {
     "data": {
      "text/html": [
       "<div>\n",
       "<style scoped>\n",
       "    .dataframe tbody tr th:only-of-type {\n",
       "        vertical-align: middle;\n",
       "    }\n",
       "\n",
       "    .dataframe tbody tr th {\n",
       "        vertical-align: top;\n",
       "    }\n",
       "\n",
       "    .dataframe thead th {\n",
       "        text-align: right;\n",
       "    }\n",
       "</style>\n",
       "<table border=\"1\" class=\"dataframe\">\n",
       "  <thead>\n",
       "    <tr style=\"text-align: right;\">\n",
       "      <th></th>\n",
       "      <th>Output</th>\n",
       "      <th>bmi</th>\n",
       "    </tr>\n",
       "  </thead>\n",
       "  <tbody>\n",
       "    <tr>\n",
       "      <th>0</th>\n",
       "      <td>0</td>\n",
       "      <td>30.1</td>\n",
       "    </tr>\n",
       "    <tr>\n",
       "      <th>1</th>\n",
       "      <td>1</td>\n",
       "      <td>34.3</td>\n",
       "    </tr>\n",
       "  </tbody>\n",
       "</table>\n",
       "</div>"
      ],
      "text/plain": [
       "   Output   bmi\n",
       "0       0  30.1\n",
       "1       1  34.3"
      ]
     },
     "execution_count": 8,
     "metadata": {},
     "output_type": "execute_result"
    }
   ],
   "source": [
    "median_target('insulin')\n",
    "median_target('glucose_conc')\n",
    "median_target('skin_len')\n",
    "median_target('bp')\n",
    "median_target('bmi')"
   ]
  },
  {
   "cell_type": "code",
   "execution_count": 9,
   "id": "8a710157",
   "metadata": {},
   "outputs": [],
   "source": [
    "#Filling the NaN value with Median according to Output\n",
    "df.loc[(df['Output'] == 0 ) & (df['insulin'].isnull()), 'insulin'] = 102.5\n",
    "df.loc[(df['Output'] == 1 ) & (df['insulin'].isnull()), 'insulin'] = 169.5\n",
    "df.loc[(df['Output'] == 0 ) & (df['glucose_conc'].isnull()), 'glucose_conc'] = 107\n",
    "df.loc[(df['Output'] == 1 ) & (df['glucose_conc'].isnull()), 'glucose_conc'] = 140\n",
    "df.loc[(df['Output'] == 0 ) & (df['skin_len'].isnull()), 'skin_len'] = 27\n",
    "df.loc[(df['Output'] == 1 ) & (df['skin_len'].isnull()), 'skin_len'] = 32\n",
    "df.loc[(df['Output'] == 0 ) & (df['bp'].isnull()), 'bp'] = 70\n",
    "df.loc[(df['Output'] == 1 ) & (df['bp'].isnull()), 'bp'] = 74.5\n",
    "df.loc[(df['Output'] == 0 ) & (df['bmi'].isnull()), 'bmi'] = 30.1\n",
    "df.loc[(df['Output'] == 1 ) & (df['bmi'].isnull()), 'bmi'] = 34.3"
   ]
  },
  {
   "cell_type": "code",
   "execution_count": 10,
   "id": "a0663749",
   "metadata": {},
   "outputs": [],
   "source": [
    "median_target('n_pregnant')\n",
    "df.loc[(df['Output'] == 0 ) & (df['n_pregnant']>13), 'n_pregnant'] = 2\n",
    "df.loc[(df['Output'] == 1 ) & (df['n_pregnant']>13), 'n_pregnant'] = 4"
   ]
  },
  {
   "cell_type": "code",
   "execution_count": 11,
   "id": "5b8fccf5",
   "metadata": {},
   "outputs": [],
   "source": [
    "median_target('bp')\n",
    "df.loc[(df['Output'] == 0 ) & (df['bp']<40), 'bp'] = 70\n",
    "df.loc[(df['Output'] == 1 ) & (df['bp']<40), 'bp'] = 74.5\n",
    "df.loc[(df['Output'] == 0 ) & (df['bp']>103), 'bp'] = 70\n",
    "df.loc[(df['Output'] == 1 ) & (df['bp']>103), 'bp'] = 74.5"
   ]
  },
  {
   "cell_type": "code",
   "execution_count": 12,
   "id": "fb336cf6",
   "metadata": {},
   "outputs": [],
   "source": [
    "median_target('skin_len')\n",
    "df.loc[(df['Output'] == 0 ) & (df['skin_len']>38), 'skin_len'] = 27\n",
    "df.loc[(df['Output'] == 1 ) & (df['skin_len']>38), 'skin_len'] = 32\n",
    "df.loc[(df['Output'] == 0 ) & (df['skin_len']<20), 'skin_len'] = 27\n",
    "df.loc[(df['Output'] == 1 ) & (df['skin_len']<20), 'skin_len'] = 32"
   ]
  },
  {
   "cell_type": "code",
   "execution_count": 13,
   "id": "9aa743f7",
   "metadata": {},
   "outputs": [],
   "source": [
    "median_target('bmi')\n",
    "df.loc[(df['Output'] == 0 ) & (df['bmi']>48), 'bmi'] = 30.1\n",
    "df.loc[(df['Output'] == 1 ) & (df['bmi']>48), 'bmi'] = 34.3"
   ]
  },
  {
   "cell_type": "code",
   "execution_count": 14,
   "id": "1adad148",
   "metadata": {},
   "outputs": [],
   "source": [
    "median_target('pedigree_fun')\n",
    "df.loc[(df['Output'] == 0 ) & (df['pedigree_fun']>1), 'pedigree_fun'] = 0.336\n",
    "df.loc[(df['Output'] == 1 ) & (df['pedigree_fun']>1), 'pedigree_fun'] = 0.449"
   ]
  },
  {
   "cell_type": "code",
   "execution_count": 15,
   "id": "2b10a035",
   "metadata": {},
   "outputs": [],
   "source": [
    "median_target('age')\n",
    "df.loc[(df['Output'] == 0 ) & (df['age']>61), 'age'] = 27\n",
    "df.loc[(df['Output'] == 1 ) & (df['age']>61), 'age'] = 36"
   ]
  },
  {
   "cell_type": "code",
   "execution_count": 16,
   "id": "9c615894",
   "metadata": {},
   "outputs": [
    {
     "data": {
      "text/plain": [
       "n_pregnant        int64\n",
       "glucose_conc    float64\n",
       "bp              float64\n",
       "skin_len        float64\n",
       "insulin         float64\n",
       "bmi             float64\n",
       "pedigree_fun    float64\n",
       "age               int64\n",
       "Output            int64\n",
       "dtype: object"
      ]
     },
     "execution_count": 16,
     "metadata": {},
     "output_type": "execute_result"
    }
   ],
   "source": [
    "df.dtypes"
   ]
  },
  {
   "cell_type": "code",
   "execution_count": 17,
   "id": "bdea393f",
   "metadata": {},
   "outputs": [
    {
     "data": {
      "text/html": [
       "<div>\n",
       "<style scoped>\n",
       "    .dataframe tbody tr th:only-of-type {\n",
       "        vertical-align: middle;\n",
       "    }\n",
       "\n",
       "    .dataframe tbody tr th {\n",
       "        vertical-align: top;\n",
       "    }\n",
       "\n",
       "    .dataframe thead th {\n",
       "        text-align: right;\n",
       "    }\n",
       "</style>\n",
       "<table border=\"1\" class=\"dataframe\">\n",
       "  <thead>\n",
       "    <tr style=\"text-align: right;\">\n",
       "      <th></th>\n",
       "      <th>n_pregnant</th>\n",
       "      <th>glucose_conc</th>\n",
       "      <th>bp</th>\n",
       "      <th>skin_len</th>\n",
       "      <th>insulin</th>\n",
       "      <th>bmi</th>\n",
       "      <th>pedigree_fun</th>\n",
       "      <th>age</th>\n",
       "      <th>Output</th>\n",
       "    </tr>\n",
       "  </thead>\n",
       "  <tbody>\n",
       "    <tr>\n",
       "      <th>0</th>\n",
       "      <td>6</td>\n",
       "      <td>148.0</td>\n",
       "      <td>72.0</td>\n",
       "      <td>35.0</td>\n",
       "      <td>169.5</td>\n",
       "      <td>33.6</td>\n",
       "      <td>0.627</td>\n",
       "      <td>50</td>\n",
       "      <td>1</td>\n",
       "    </tr>\n",
       "    <tr>\n",
       "      <th>1</th>\n",
       "      <td>1</td>\n",
       "      <td>85.0</td>\n",
       "      <td>66.0</td>\n",
       "      <td>29.0</td>\n",
       "      <td>102.5</td>\n",
       "      <td>26.6</td>\n",
       "      <td>0.351</td>\n",
       "      <td>31</td>\n",
       "      <td>0</td>\n",
       "    </tr>\n",
       "    <tr>\n",
       "      <th>2</th>\n",
       "      <td>8</td>\n",
       "      <td>183.0</td>\n",
       "      <td>64.0</td>\n",
       "      <td>32.0</td>\n",
       "      <td>169.5</td>\n",
       "      <td>23.3</td>\n",
       "      <td>0.672</td>\n",
       "      <td>32</td>\n",
       "      <td>1</td>\n",
       "    </tr>\n",
       "    <tr>\n",
       "      <th>3</th>\n",
       "      <td>1</td>\n",
       "      <td>89.0</td>\n",
       "      <td>66.0</td>\n",
       "      <td>23.0</td>\n",
       "      <td>94.0</td>\n",
       "      <td>28.1</td>\n",
       "      <td>0.167</td>\n",
       "      <td>21</td>\n",
       "      <td>0</td>\n",
       "    </tr>\n",
       "    <tr>\n",
       "      <th>4</th>\n",
       "      <td>0</td>\n",
       "      <td>137.0</td>\n",
       "      <td>40.0</td>\n",
       "      <td>35.0</td>\n",
       "      <td>168.0</td>\n",
       "      <td>43.1</td>\n",
       "      <td>0.449</td>\n",
       "      <td>33</td>\n",
       "      <td>1</td>\n",
       "    </tr>\n",
       "  </tbody>\n",
       "</table>\n",
       "</div>"
      ],
      "text/plain": [
       "   n_pregnant  glucose_conc    bp  skin_len  insulin   bmi  pedigree_fun  age  \\\n",
       "0           6         148.0  72.0      35.0    169.5  33.6         0.627   50   \n",
       "1           1          85.0  66.0      29.0    102.5  26.6         0.351   31   \n",
       "2           8         183.0  64.0      32.0    169.5  23.3         0.672   32   \n",
       "3           1          89.0  66.0      23.0     94.0  28.1         0.167   21   \n",
       "4           0         137.0  40.0      35.0    168.0  43.1         0.449   33   \n",
       "\n",
       "   Output  \n",
       "0       1  \n",
       "1       0  \n",
       "2       1  \n",
       "3       0  \n",
       "4       1  "
      ]
     },
     "execution_count": 17,
     "metadata": {},
     "output_type": "execute_result"
    }
   ],
   "source": [
    "df.head()"
   ]
  },
  {
   "cell_type": "code",
   "execution_count": 18,
   "id": "751efa56",
   "metadata": {},
   "outputs": [
    {
     "data": {
      "text/plain": [
       "array([1, 0], dtype=int64)"
      ]
     },
     "execution_count": 18,
     "metadata": {},
     "output_type": "execute_result"
    }
   ],
   "source": [
    "df['Output'].unique()"
   ]
  },
  {
   "cell_type": "code",
   "execution_count": 19,
   "id": "364c471a",
   "metadata": {},
   "outputs": [
    {
     "data": {
      "image/png": "[encoded data removed]",
      "text/plain": [
       "<Figure size 432x288 with 1 Axes>"
      ]
     },
     "metadata": {
      "needs_background": "light"
     },
     "output_type": "display_data"
    }
   ],
   "source": [
    "#data visulation\n",
    "plt.plot(df['bp'],'o')\n",
    "plt.plot(df['bmi'],'o')\n",
    "plt.title('bp vs bmi')\n",
    "plt.legend(['bp','bmi'], loc='upper left')\n",
    "plt.show()"
   ]
  },
  {
   "cell_type": "code",
   "execution_count": 20,
   "id": "ddc68576",
   "metadata": {},
   "outputs": [
    {
     "name": "stderr",
     "output_type": "stream",
     "text": [
      "C:\\Users\\dell\\AppData\\Local\\Temp/ipykernel_15208/1028016794.py:2: UserWarning: Pandas doesn't allow columns to be created via a new attribute name - see https://pandas.pydata.org/pandas-docs/stable/indexing.html#attribute-access\n",
      "  df.col=['n_pregnant','glucose_conc','bp','skin_len','insulin','bmi','pedigree_fun','age','Output']\n"
     ]
    }
   ],
   "source": [
    "scaler = MinMaxScaler()\n",
    "df.col=['n_pregnant','glucose_conc','bp','skin_len','insulin','bmi','pedigree_fun','age','Output']\n",
    "df[df.col]= scaler.fit_transform(df[df.col])"
   ]
  },
  {
   "cell_type": "code",
   "execution_count": 21,
   "id": "2ec0d2b6",
   "metadata": {},
   "outputs": [
    {
     "data": {
      "text/html": [
       "<div>\n",
       "<style scoped>\n",
       "    .dataframe tbody tr th:only-of-type {\n",
       "        vertical-align: middle;\n",
       "    }\n",
       "\n",
       "    .dataframe tbody tr th {\n",
       "        vertical-align: top;\n",
       "    }\n",
       "\n",
       "    .dataframe thead th {\n",
       "        text-align: right;\n",
       "    }\n",
       "</style>\n",
       "<table border=\"1\" class=\"dataframe\">\n",
       "  <thead>\n",
       "    <tr style=\"text-align: right;\">\n",
       "      <th></th>\n",
       "      <th>n_pregnant</th>\n",
       "      <th>glucose_conc</th>\n",
       "      <th>bp</th>\n",
       "      <th>skin_len</th>\n",
       "      <th>insulin</th>\n",
       "      <th>bmi</th>\n",
       "      <th>pedigree_fun</th>\n",
       "      <th>age</th>\n",
       "      <th>Output</th>\n",
       "    </tr>\n",
       "  </thead>\n",
       "  <tbody>\n",
       "    <tr>\n",
       "      <th>0</th>\n",
       "      <td>0.461538</td>\n",
       "      <td>0.670968</td>\n",
       "      <td>0.516129</td>\n",
       "      <td>0.833333</td>\n",
       "      <td>0.186899</td>\n",
       "      <td>0.518519</td>\n",
       "      <td>0.597388</td>\n",
       "      <td>0.725</td>\n",
       "      <td>1.0</td>\n",
       "    </tr>\n",
       "    <tr>\n",
       "      <th>1</th>\n",
       "      <td>0.076923</td>\n",
       "      <td>0.264516</td>\n",
       "      <td>0.419355</td>\n",
       "      <td>0.500000</td>\n",
       "      <td>0.106370</td>\n",
       "      <td>0.282828</td>\n",
       "      <td>0.297062</td>\n",
       "      <td>0.250</td>\n",
       "      <td>0.0</td>\n",
       "    </tr>\n",
       "    <tr>\n",
       "      <th>2</th>\n",
       "      <td>0.615385</td>\n",
       "      <td>0.896774</td>\n",
       "      <td>0.387097</td>\n",
       "      <td>0.666667</td>\n",
       "      <td>0.186899</td>\n",
       "      <td>0.171717</td>\n",
       "      <td>0.646355</td>\n",
       "      <td>0.275</td>\n",
       "      <td>1.0</td>\n",
       "    </tr>\n",
       "    <tr>\n",
       "      <th>3</th>\n",
       "      <td>0.076923</td>\n",
       "      <td>0.290323</td>\n",
       "      <td>0.419355</td>\n",
       "      <td>0.166667</td>\n",
       "      <td>0.096154</td>\n",
       "      <td>0.333333</td>\n",
       "      <td>0.096844</td>\n",
       "      <td>0.000</td>\n",
       "      <td>0.0</td>\n",
       "    </tr>\n",
       "    <tr>\n",
       "      <th>4</th>\n",
       "      <td>0.000000</td>\n",
       "      <td>0.600000</td>\n",
       "      <td>0.000000</td>\n",
       "      <td>0.833333</td>\n",
       "      <td>0.185096</td>\n",
       "      <td>0.838384</td>\n",
       "      <td>0.403700</td>\n",
       "      <td>0.300</td>\n",
       "      <td>1.0</td>\n",
       "    </tr>\n",
       "    <tr>\n",
       "      <th>...</th>\n",
       "      <td>...</td>\n",
       "      <td>...</td>\n",
       "      <td>...</td>\n",
       "      <td>...</td>\n",
       "      <td>...</td>\n",
       "      <td>...</td>\n",
       "      <td>...</td>\n",
       "      <td>...</td>\n",
       "      <td>...</td>\n",
       "    </tr>\n",
       "    <tr>\n",
       "      <th>763</th>\n",
       "      <td>0.769231</td>\n",
       "      <td>0.367742</td>\n",
       "      <td>0.580645</td>\n",
       "      <td>0.388889</td>\n",
       "      <td>0.199519</td>\n",
       "      <td>0.494949</td>\n",
       "      <td>0.101197</td>\n",
       "      <td>0.150</td>\n",
       "      <td>0.0</td>\n",
       "    </tr>\n",
       "    <tr>\n",
       "      <th>764</th>\n",
       "      <td>0.153846</td>\n",
       "      <td>0.503226</td>\n",
       "      <td>0.483871</td>\n",
       "      <td>0.388889</td>\n",
       "      <td>0.106370</td>\n",
       "      <td>0.626263</td>\n",
       "      <td>0.285092</td>\n",
       "      <td>0.150</td>\n",
       "      <td>0.0</td>\n",
       "    </tr>\n",
       "    <tr>\n",
       "      <th>765</th>\n",
       "      <td>0.384615</td>\n",
       "      <td>0.496774</td>\n",
       "      <td>0.516129</td>\n",
       "      <td>0.166667</td>\n",
       "      <td>0.117788</td>\n",
       "      <td>0.269360</td>\n",
       "      <td>0.181719</td>\n",
       "      <td>0.225</td>\n",
       "      <td>0.0</td>\n",
       "    </tr>\n",
       "    <tr>\n",
       "      <th>766</th>\n",
       "      <td>0.076923</td>\n",
       "      <td>0.529032</td>\n",
       "      <td>0.322581</td>\n",
       "      <td>0.666667</td>\n",
       "      <td>0.186899</td>\n",
       "      <td>0.400673</td>\n",
       "      <td>0.294886</td>\n",
       "      <td>0.650</td>\n",
       "      <td>1.0</td>\n",
       "    </tr>\n",
       "    <tr>\n",
       "      <th>767</th>\n",
       "      <td>0.076923</td>\n",
       "      <td>0.316129</td>\n",
       "      <td>0.483871</td>\n",
       "      <td>0.611111</td>\n",
       "      <td>0.106370</td>\n",
       "      <td>0.410774</td>\n",
       "      <td>0.257889</td>\n",
       "      <td>0.050</td>\n",
       "      <td>0.0</td>\n",
       "    </tr>\n",
       "  </tbody>\n",
       "</table>\n",
       "<p>768 rows × 9 columns</p>\n",
       "</div>"
      ],
      "text/plain": [
       "     n_pregnant  glucose_conc        bp  skin_len   insulin       bmi  \\\n",
       "0      0.461538      0.670968  0.516129  0.833333  0.186899  0.518519   \n",
       "1      0.076923      0.264516  0.419355  0.500000  0.106370  0.282828   \n",
       "2      0.615385      0.896774  0.387097  0.666667  0.186899  0.171717   \n",
       "3      0.076923      0.290323  0.419355  0.166667  0.096154  0.333333   \n",
       "4      0.000000      0.600000  0.000000  0.833333  0.185096  0.838384   \n",
       "..          ...           ...       ...       ...       ...       ...   \n",
       "763    0.769231      0.367742  0.580645  0.388889  0.199519  0.494949   \n",
       "764    0.153846      0.503226  0.483871  0.388889  0.106370  0.626263   \n",
       "765    0.384615      0.496774  0.516129  0.166667  0.117788  0.269360   \n",
       "766    0.076923      0.529032  0.322581  0.666667  0.186899  0.400673   \n",
       "767    0.076923      0.316129  0.483871  0.611111  0.106370  0.410774   \n",
       "\n",
       "     pedigree_fun    age  Output  \n",
       "0        0.597388  0.725     1.0  \n",
       "1        0.297062  0.250     0.0  \n",
       "2        0.646355  0.275     1.0  \n",
       "3        0.096844  0.000     0.0  \n",
       "4        0.403700  0.300     1.0  \n",
       "..            ...    ...     ...  \n",
       "763      0.101197  0.150     0.0  \n",
       "764      0.285092  0.150     0.0  \n",
       "765      0.181719  0.225     0.0  \n",
       "766      0.294886  0.650     1.0  \n",
       "767      0.257889  0.050     0.0  \n",
       "\n",
       "[768 rows x 9 columns]"
      ]
     },
     "execution_count": 21,
     "metadata": {},
     "output_type": "execute_result"
    }
   ],
   "source": [
    "df"
   ]
  },
  {
   "cell_type": "code",
   "execution_count": 22,
   "id": "79b0846d",
   "metadata": {},
   "outputs": [
    {
     "name": "stderr",
     "output_type": "stream",
     "text": [
      "C:\\Users\\dell\\AppData\\Local\\Temp/ipykernel_15208/3676967039.py:2: FutureWarning: In a future version of pandas all arguments of DataFrame.drop except for the argument 'labels' will be keyword-only\n",
      "  X = df.drop(['Output'], 1)\n"
     ]
    }
   ],
   "source": [
    "#Splitting the Data\n",
    "X = df.drop(['Output'], 1)\n",
    "y = df['Output']"
   ]
  },
  {
   "cell_type": "code",
   "execution_count": 23,
   "id": "a5a30d7a",
   "metadata": {},
   "outputs": [],
   "source": [
    "X_train, X_test, y_train, y_test= train_test_split(X,y,test_size=0.20,random_state=0)"
   ]
  },
  {
   "cell_type": "code",
   "execution_count": 24,
   "id": "1ac121ba",
   "metadata": {},
   "outputs": [
    {
     "data": {
      "text/plain": [
       "(614, 8)"
      ]
     },
     "execution_count": 24,
     "metadata": {},
     "output_type": "execute_result"
    }
   ],
   "source": [
    "X_train.shape"
   ]
  },
  {
   "cell_type": "code",
   "execution_count": 25,
   "id": "e5b79a0a",
   "metadata": {},
   "outputs": [
    {
     "data": {
      "text/plain": [
       "(154, 8)"
      ]
     },
     "execution_count": 25,
     "metadata": {},
     "output_type": "execute_result"
    }
   ],
   "source": [
    "X_test.shape"
   ]
  },
  {
   "cell_type": "code",
   "execution_count": 26,
   "id": "217402f0",
   "metadata": {},
   "outputs": [
    {
     "data": {
      "text/plain": [
       "(614,)"
      ]
     },
     "execution_count": 26,
     "metadata": {},
     "output_type": "execute_result"
    }
   ],
   "source": [
    "y_train.shape"
   ]
  },
  {
   "cell_type": "code",
   "execution_count": 27,
   "id": "8e1c6311",
   "metadata": {},
   "outputs": [
    {
     "data": {
      "text/plain": [
       "(154,)"
      ]
     },
     "execution_count": 27,
     "metadata": {},
     "output_type": "execute_result"
    }
   ],
   "source": [
    "y_test.shape"
   ]
  },
  {
   "cell_type": "code",
   "execution_count": 29,
   "id": "ece1ff89",
   "metadata": {},
   "outputs": [],
   "source": [
    "model = SVC(kernel='linear')\n",
    "history=model.fit(X_train,y_train)"
   ]
  },
  {
   "cell_type": "code",
   "execution_count": 30,
   "id": "bb09d4ba",
   "metadata": {},
   "outputs": [],
   "source": [
    "y_pred=model.predict(X_test)"
   ]
  },
  {
   "cell_type": "code",
   "execution_count": 31,
   "id": "700f8931",
   "metadata": {},
   "outputs": [
    {
     "name": "stdout",
     "output_type": "stream",
     "text": [
      "              precision    recall  f1-score   support\n",
      "\n",
      "         0.0       0.95      0.89      0.92       107\n",
      "         1.0       0.78      0.89      0.83        47\n",
      "\n",
      "    accuracy                           0.89       154\n",
      "   macro avg       0.86      0.89      0.87       154\n",
      "weighted avg       0.90      0.89      0.89       154\n",
      "\n"
     ]
    }
   ],
   "source": [
    "print(classification_report(y_test,y_pred))"
   ]
  },
  {
   "cell_type": "code",
   "execution_count": 32,
   "id": "6302c8b0",
   "metadata": {},
   "outputs": [
    {
     "data": {
      "text/plain": [
       "Text(69.0, 0.5, 'Truth')"
      ]
     },
     "execution_count": 32,
     "metadata": {},
     "output_type": "execute_result"
    },
    {
     "data": {
      "image/png": "[encoded data removed]",
      "text/plain": [
       "<Figure size 720x504 with 2 Axes>"
      ]
     },
     "metadata": {
      "needs_background": "light"
     },
     "output_type": "display_data"
    }
   ],
   "source": [
    "cm=tf.math.confusion_matrix(labels=y_test,predictions=y_pred)\n",
    "plt.figure(figsize=(10,7))\n",
    "sns.heatmap(cm, annot=True, fmt='d')\n",
    "plt.xlabel('Predicted')\n",
    "plt.ylabel('Truth')"
   ]
  },
  {
   "cell_type": "code",
   "execution_count": 33,
   "id": "38069dc8",
   "metadata": {},
   "outputs": [
    {
     "name": "stdout",
     "output_type": "stream",
     "text": [
      "ROC AUC: 0.89\n"
     ]
    },
    {
     "data": {
      "image/png": "[encoded data removed]",
      "text/plain": [
       "<Figure size 432x288 with 1 Axes>"
      ]
     },
     "metadata": {
      "needs_background": "light"
     },
     "output_type": "display_data"
    }
   ],
   "source": [
    "fpr,tpr,_=roc_curve(y_test,y_pred)\n",
    "#calculate AUC\n",
    "roc_auc=auc(fpr,tpr)\n",
    "print('ROC AUC: %0.2f' % roc_auc)\n",
    "#plot of ROC curve for a specified class\n",
    "plt.figure()\n",
    "plt.plot(fpr,tpr,label='ROC curve(area= %2.f)' %roc_auc)\n",
    "plt.plot([0,1],[0,1],'k--')\n",
    "plt.xlim([0.0,1.0])\n",
    "plt.ylim([0.0,1.05])\n",
    "plt.xlabel('False positive rate')\n",
    "plt.ylabel('True positive rate')\n",
    "plt.title('ROC curve')\n",
    "plt.legend(loc='lower right')\n",
    "plt.grid()\n",
    "plt.show()"
   ]
  },
  {
   "cell_type": "code",
   "execution_count": 34,
   "id": "ae14158e",
   "metadata": {},
   "outputs": [
    {
     "name": "stdout",
     "output_type": "stream",
     "text": [
      "{'C': 100, 'gamma': 1, 'kernel': 'rbf'}\n"
     ]
    }
   ],
   "source": [
    "param_grid={'C':[0.1, 1, 10, 100],\n",
    "            'gamma':[1,0.1,0.01,0.001],\n",
    "            'kernel':['rbf']\n",
    "           }\n",
    "\n",
    "from sklearn.model_selection import GridSearchCV\n",
    "optimal_params = GridSearchCV(\n",
    "        SVC(),\n",
    "        param_grid,\n",
    "        cv=5,\n",
    "        scoring='accuracy',\n",
    "        verbose=0\n",
    ")\n",
    "\n",
    "optimal_params.fit(X_train, y_train)\n",
    "print(optimal_params.best_params_)"
   ]
  },
  {
   "cell_type": "code",
   "execution_count": 35,
   "id": "d9f9d161",
   "metadata": {},
   "outputs": [
    {
     "data": {
      "text/plain": [
       "SVC(C=100, gamma=1)"
      ]
     },
     "execution_count": 35,
     "metadata": {},
     "output_type": "execute_result"
    }
   ],
   "source": [
    "model=SVC(kernel='rbf', C=100, gamma=1) # C is 100 which means we will use regularization and the ideal value for gamma is 1\n",
    "model.fit(X_train,y_train)"
   ]
  },
  {
   "cell_type": "code",
   "execution_count": 36,
   "id": "c06a3537",
   "metadata": {},
   "outputs": [
    {
     "name": "stdout",
     "output_type": "stream",
     "text": [
      "accuracy - : 0.950\n"
     ]
    }
   ],
   "source": [
    "print(f'accuracy - : {optimal_params.score(X_train,y_train):.3f}')"
   ]
  },
  {
   "cell_type": "code",
   "execution_count": null,
   "id": "cb33b9aa",
   "metadata": {},
   "outputs": [],
   "source": []
  }
 ],
 "metadata": {
  "kernelspec": {
   "display_name": "Python 3",
   "language": "python",
   "name": "python3"
  },
  "language_info": {
   "codemirror_mode": {
    "name": "ipython",
    "version": 3
   },
   "file_extension": ".py",
   "mimetype": "text/x-python",
   "name": "python",
   "nbconvert_exporter": "python",
   "pygments_lexer": "ipython3",
   "version": "3.8.8"
  }
 },
 "nbformat": 4,
 "nbformat_minor": 5
}
